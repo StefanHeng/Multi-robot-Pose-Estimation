{
 "cells": [
  {
   "cell_type": "markdown",
   "source": [
    "# Explore Fuse Pose Estimates\n",
    "Stefan/Yuzhao Heng\n",
    "Since Tues. Nov. 2nd, 2021\n",
    "\n",
    "i.e. Get pose candidates from the HSR's laser scan in locating KUKA, and candidates from KUKA's laser scan in locating HSR.\n",
    "\n",
    "\n",
    "## Setup\n",
    "\n"
   ],
   "metadata": {
    "collapsed": false
   }
  },
  {
   "cell_type": "code",
   "execution_count": 1,
   "metadata": {
    "collapsed": true
   },
   "outputs": [],
   "source": [
    "from icecream import ic\n",
    "\n",
    "from scripts.util import *\n",
    "from scripts.robo_pose_estimator import *\n",
    "\n",
    "\n",
    "hsr_scans = json_load('../data/HSR laser 2.json')\n",
    "s = hsr_scans[77]\n",
    "scan_hsr = laser_polar2planar(s['angle_max'], s['angle_min'])(np.array(s['ranges']))\n",
    "\n"
   ]
  },
  {
   "cell_type": "markdown",
   "source": [
    "## A straightforward approach: ICP\n",
    "\n",
    "### Setup"
   ],
   "metadata": {
    "collapsed": false
   }
  },
  {
   "cell_type": "code",
   "execution_count": 2,
   "outputs": [],
   "source": [
    "# Empirically have `robot_a` as HSR, `robot_b` as KUKA\n",
    "pc_kuka = get_rect_pointcloud(\n",
    "    PoseEstimator.L_KUKA,\n",
    "    PoseEstimator.W_KUKA,\n",
    ")\n",
    "fp = PoseEstimator.FusePose(pc_b=pc_kuka)\n",
    "\n"
   ],
   "metadata": {
    "collapsed": false,
    "pycharm": {
     "name": "#%%\n"
    }
   }
  },
  {
   "cell_type": "markdown",
   "source": [
    "### No guess whatsoever\n"
   ],
   "metadata": {
    "collapsed": false
   }
  },
  {
   "cell_type": "code",
   "execution_count": 3,
   "outputs": [],
   "source": [
    "Icp(pc_kuka, scan_hsr)(max_iter=100, min_d_err=1e-6)\n",
    "\n",
    "# i.e. Identity transformation\n",
    "title = 'HSR locates KUKA, default transform init'\n",
    "# visualize(pc_kuka, scan_hsr, title)  # Jupyter's problem???? Shouldn't have shown an error\n",
    "\n"
   ],
   "metadata": {
    "collapsed": false,
    "pycharm": {
     "name": "#%%\n"
    }
   }
  },
  {
   "cell_type": "markdown",
   "source": [
    "## An almost perfect guess\n",
    "Only rotation is wrong, but the raw ICP output is not ideal\n",
    "\n"
   ],
   "metadata": {
    "collapsed": false,
    "pycharm": {
     "name": "#%% md\n"
    }
   }
  },
  {
   "cell_type": "code",
   "execution_count": 4,
   "outputs": [
    {
     "name": "stderr",
     "output_type": "stream",
     "text": [
      "ic| 'Initial guess': 'Initial guess'\n",
      "    init_tsf: array([[1., 0., 0.],\n",
      "                     [0., 1., 0.],\n",
      "                     [0., 0., 1.]])\n"
     ]
    },
    {
     "ename": "NameError",
     "evalue": "name 'plot_icp_result' is not defined",
     "output_type": "error",
     "traceback": [
      "\u001B[0;31m---------------------------------------------------------------------------\u001B[0m",
      "\u001B[0;31mNameError\u001B[0m                                 Traceback (most recent call last)",
      "\u001B[0;32m/var/folders/76/fm8fgr4n1p78whqg7x_bd5480000gn/T/ipykernel_57713/2235907823.py\u001B[0m in \u001B[0;36m<module>\u001B[0;34m\u001B[0m\n\u001B[1;32m      1\u001B[0m \u001B[0mtitle\u001B[0m \u001B[0;34m=\u001B[0m \u001B[0;34m'HSR locates KUKA, good transform init'\u001B[0m\u001B[0;34m\u001B[0m\u001B[0;34m\u001B[0m\u001B[0m\n\u001B[0;32m----> 2\u001B[0;31m visualize(fp.pc_b, scan_hsr, tsf=np.array([\n\u001B[0m\u001B[1;32m      3\u001B[0m     \u001B[0;34m[\u001B[0m\u001B[0;36m1\u001B[0m\u001B[0;34m,\u001B[0m \u001B[0;36m0\u001B[0m\u001B[0;34m,\u001B[0m \u001B[0;36m3\u001B[0m\u001B[0;34m]\u001B[0m\u001B[0;34m,\u001B[0m\u001B[0;34m\u001B[0m\u001B[0;34m\u001B[0m\u001B[0m\n\u001B[1;32m      4\u001B[0m     \u001B[0;34m[\u001B[0m\u001B[0;36m0\u001B[0m\u001B[0;34m,\u001B[0m \u001B[0;36m1\u001B[0m\u001B[0;34m,\u001B[0m \u001B[0;34m-\u001B[0m\u001B[0;36m0.5\u001B[0m\u001B[0;34m]\u001B[0m\u001B[0;34m,\u001B[0m\u001B[0;34m\u001B[0m\u001B[0;34m\u001B[0m\u001B[0m\n\u001B[1;32m      5\u001B[0m     \u001B[0;34m[\u001B[0m\u001B[0;36m0\u001B[0m\u001B[0;34m,\u001B[0m \u001B[0;36m0\u001B[0m\u001B[0;34m,\u001B[0m \u001B[0;36m1\u001B[0m\u001B[0;34m]\u001B[0m\u001B[0;34m\u001B[0m\u001B[0;34m\u001B[0m\u001B[0m\n",
      "\u001B[0;32m~/Documents/UMich/Research/Robot-Localization/Multi-robot-Pose-Estimation/scripts/robo_pose_estimator.py\u001B[0m in \u001B[0;36mvisualize\u001B[0;34m(a, b, init_tsf, mode, **kwargs)\u001B[0m\n\u001B[1;32m    216\u001B[0m     \u001B[0;31m# ic(states[:2])\u001B[0m\u001B[0;34m\u001B[0m\u001B[0;34m\u001B[0m\u001B[0m\n\u001B[1;32m    217\u001B[0m     \u001B[0;31m# states = states[:3]\u001B[0m\u001B[0;34m\u001B[0m\u001B[0;34m\u001B[0m\u001B[0m\n\u001B[0;32m--> 218\u001B[0;31m     \u001B[0mplot_icp_result\u001B[0m\u001B[0;34m(\u001B[0m\u001B[0mextend_1s\u001B[0m\u001B[0;34m(\u001B[0m\u001B[0ma\u001B[0m\u001B[0;34m)\u001B[0m\u001B[0;34m,\u001B[0m \u001B[0mb\u001B[0m\u001B[0;34m,\u001B[0m \u001B[0mtsf\u001B[0m\u001B[0;34m,\u001B[0m \u001B[0mstates\u001B[0m\u001B[0;34m=\u001B[0m\u001B[0mstates\u001B[0m\u001B[0;34m,\u001B[0m \u001B[0minit_tsf\u001B[0m\u001B[0;34m=\u001B[0m\u001B[0minit_tsf\u001B[0m\u001B[0;34m,\u001B[0m \u001B[0mmode\u001B[0m\u001B[0;34m=\u001B[0m\u001B[0mmode\u001B[0m\u001B[0;34m,\u001B[0m \u001B[0;34m**\u001B[0m\u001B[0mkwargs\u001B[0m\u001B[0;34m)\u001B[0m\u001B[0;34m\u001B[0m\u001B[0;34m\u001B[0m\u001B[0m\n\u001B[0m\u001B[1;32m    219\u001B[0m \u001B[0;34m\u001B[0m\u001B[0m\n\u001B[1;32m    220\u001B[0m \u001B[0;34m\u001B[0m\u001B[0m\n",
      "\u001B[0;31mNameError\u001B[0m: name 'plot_icp_result' is not defined"
     ]
    }
   ],
   "source": [
    "title = 'HSR locates KUKA, good transform init'\n",
    "visualize(fp.pc_b, scan_hsr, tsf=np.array([\n",
    "    [1, 0, 3],\n",
    "    [0, 1, -0.5],\n",
    "    [0, 0, 1]\n",
    "]), title=title, xlim=[-2, 5], ylim=[-2, 1])\n"
   ],
   "metadata": {
    "collapsed": false,
    "pycharm": {
     "name": "#%%\n"
    }
   }
  },
  {
   "cell_type": "markdown",
   "source": [
    "## Cluster the point clouds first\n",
    "then run ICP on each, with the relative translation to cluster center\n",
    "\n",
    "\n",
    "### Clustering\n",
    "What algorithm work well? Ideally the number of clusters shouldn't be fixed.\n",
    "\n",
    "\n",
    "#### Setup\n",
    "\n"
   ],
   "metadata": {
    "collapsed": false
   }
  },
  {
   "cell_type": "code",
   "execution_count": null,
   "outputs": [],
   "source": [
    "c = Cluster.cluster"
   ],
   "metadata": {
    "collapsed": false,
    "pycharm": {
     "name": "#%%\n"
    }
   }
  },
  {
   "cell_type": "markdown",
   "source": [
    "#### Spectral Clustering\n",
    "\n"
   ],
   "metadata": {
    "collapsed": false
   }
  },
  {
   "cell_type": "code",
   "execution_count": null,
   "outputs": [],
   "source": [
    "lbs = c(scan_hsr, approach='spectral', n_clusters=8)\n",
    "plot_cluster(scan_hsr, lbs, title='Spectral on HSR')\n",
    "\n"
   ],
   "metadata": {
    "collapsed": false,
    "pycharm": {
     "name": "#%%\n"
    }
   }
  },
  {
   "cell_type": "markdown",
   "source": [
    "#### Hierarchical Clustering\n",
    "\n"
   ],
   "metadata": {
    "collapsed": false
   }
  },
  {
   "cell_type": "code",
   "execution_count": null,
   "outputs": [],
   "source": [
    "def _(d):\n",
    "    lbs = c(scan_hsr, approach='hierarchical', distance_threshold=d)\n",
    "    plot_cluster(scan_hsr, lbs, title=f'Hierarchical on HSR, avg threshold={d}')\n",
    "\n",
    "_(1)\n",
    "_(2)\n",
    "\n"
   ],
   "metadata": {
    "collapsed": false,
    "pycharm": {
     "name": "#%%\n"
    }
   }
  },
  {
   "cell_type": "markdown",
   "source": [
    "#### Gaussian Mixture Model assignment\n",
    "\n"
   ],
   "metadata": {
    "collapsed": false
   }
  },
  {
   "cell_type": "code",
   "execution_count": null,
   "outputs": [],
   "source": [
    "lbs = c(scan_hsr, approach='gaussian', n_components=6)\n",
    "plot_cluster(scan_hsr, lbs, title='Gaussian on HSR, eps=0.5')\n",
    "\n"
   ],
   "metadata": {
    "collapsed": false,
    "pycharm": {
     "name": "#%%\n"
    }
   }
  },
  {
   "cell_type": "markdown",
   "source": [
    "#### DBSCAN\n",
    "\n"
   ],
   "metadata": {
    "collapsed": false
   }
  },
  {
   "cell_type": "code",
   "execution_count": null,
   "outputs": [],
   "source": [
    "lbs = c(scan_hsr, approach='dbscan', eps=0.5, min_samples=16)\n",
    "plot_cluster(scan_hsr, lbs, title='DBSCAN on HSR, eps=0.5')\n"
   ],
   "metadata": {
    "collapsed": false,
    "pycharm": {
     "name": "#%%\n"
    }
   }
  },
  {
   "cell_type": "markdown",
   "source": [
    "### ICP with cluster translation initialisation\n"
   ],
   "metadata": {
    "collapsed": false
   }
  },
  {
   "cell_type": "code",
   "execution_count": null,
   "outputs": [],
   "source": [
    "lbs = c(scan_hsr, approach='hierarchical', distance_threshold=1)   # A good clustering result by empirical inspection\n",
    "d_clusters = {lb: scan_hsr[np.where(lbs == lb)] for lb in np.unique(lbs)}\n",
    "\n",
    "cls = d_clusters[1]  # The cluster indicating real location of KUKA\n",
    "\n",
    "title = 'HSR locates KUKA, from the real cluster'\n",
    "tsf = np.identity(3)\n",
    "tsf[:2, -1] = cls.mean(axis=0)\n",
    "ic(tsf)\n",
    "visualize(pc_kuka, scan_hsr, title=title, tsf=tsf)\n",
    "\n"
   ],
   "metadata": {
    "collapsed": false,
    "pycharm": {
     "name": "#%%\n"
    }
   }
  }
 ],
 "metadata": {
  "kernelspec": {
   "display_name": "Python 3",
   "language": "python",
   "name": "python3"
  },
  "language_info": {
   "codemirror_mode": {
    "name": "ipython",
    "version": 2
   },
   "file_extension": ".py",
   "mimetype": "text/x-python",
   "name": "python",
   "nbconvert_exporter": "python",
   "pygments_lexer": "ipython2",
   "version": "2.7.6"
  }
 },
 "nbformat": 4,
 "nbformat_minor": 0
}