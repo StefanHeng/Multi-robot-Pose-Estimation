{
 "cells": [
  {
   "cell_type": "markdown",
   "source": [
    "# Explore Initialization Distribution\n",
    "Stefan/Yuzhao Heng\n",
    "Since Wed. Oct. 20th, 2021\n",
    "\n",
    "For both 1) fusing computed pose and 2) fusing raw laser scans schemes, we need random initial pose guesses\n",
    "Here we investigate what kind of probability distribution empirically fits the robot collaboration usage\n",
    "\n",
    "\n",
    "## Weibull"
   ],
   "metadata": {
    "collapsed": false
   }
  },
  {
   "cell_type": "code",
   "execution_count": null,
   "metadata": {
    "collapsed": true
   },
   "outputs": [],
   "source": [
    "import numpy as np\n",
    "from scipy.stats import weibull_min\n",
    "from matplotlib import pyplot as plt\n",
    "\n",
    "#----------------------------------------------------------------------\n",
    "# This function adjusts matplotlib settings for a uniform feel in the textbook.\n",
    "# Note that with usetex=True, fonts are rendered with LaTeX.  This may\n",
    "# result in an error if LaTeX is not installed on your system.  In that case,\n",
    "# you can set usetex to False.\n",
    "if \"setup_text_plots\" not in globals():\n",
    "    from astroML.plotting import setup_text_plots\n",
    "setup_text_plots(fontsize=8, usetex=True)\n",
    "\n",
    "#------------------------------------------------------------\n",
    "# Define the distribution parameters to be plotted\n",
    "k_values = [0.5, 1, 2, 2]\n",
    "lam_values = [1, 1, 1, 2]\n",
    "linestyles = ['-', '--', ':', '-.', '--']\n",
    "mu = 0\n",
    "x = np.linspace(-10, 10, 1000)\n",
    "\n",
    "#------------------------------------------------------------\n",
    "# plot the distributions\n",
    "fig, ax = plt.subplots(figsize=(5, 3.75))\n",
    "\n",
    "for (k, lam, ls) in zip(k_values, lam_values, linestyles):\n",
    "    dist = weibull_min(k, mu, lam)\n",
    "    plt.plot(x, dist.pdf(x), ls=ls, c='black',\n",
    "             label=r'$k=%.1f,\\ \\lambda=%i$' % (k, lam))\n",
    "\n",
    "plt.xlim(0, 5)\n",
    "plt.ylim(0, 1)\n",
    "\n",
    "plt.xlabel('$x$')\n",
    "plt.ylabel(r'$p(x|k,\\lambda)$')\n",
    "plt.title('Weibull Distribution')\n",
    "\n",
    "plt.legend()\n",
    "plt.show()"
   ]
  }
 ],
 "metadata": {
  "kernelspec": {
   "display_name": "Python 3",
   "language": "python",
   "name": "python3"
  },
  "language_info": {
   "codemirror_mode": {
    "name": "ipython",
    "version": 2
   },
   "file_extension": ".py",
   "mimetype": "text/x-python",
   "name": "python",
   "nbconvert_exporter": "python",
   "pygments_lexer": "ipython2",
   "version": "2.7.6"
  }
 },
 "nbformat": 4,
 "nbformat_minor": 0
}