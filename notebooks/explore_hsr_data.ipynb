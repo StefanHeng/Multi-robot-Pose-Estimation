{
 "cells": [
  {
   "cell_type": "markdown",
   "source": [
    "# Explore HSR data\n",
    "Stefan/Yuzhao Heng\n",
    "Since Tues. Oct. 12th, 2021\n",
    "\n",
    "Check the types, format and content for HSR robot's laser scan output, see `scripts/util` for the type.\n",
    "\n",
    "\n",
    "## Setup"
   ],
   "metadata": {
    "collapsed": false
   }
  },
  {
   "cell_type": "code",
   "execution_count": 82,
   "metadata": {
    "collapsed": true
   },
   "outputs": [],
   "source": [
    "import os\n",
    "import json\n",
    "import numpy as np\n",
    "from collections.abc import Iterable\n",
    "from math import isclose\n",
    "from icecream import ic\n",
    "\n",
    "from util import *\n",
    "\n",
    "os.chdir('../data')\n",
    "\n",
    "fnms = !ls\n",
    "\n",
    "def get_scans(fnm):\n",
    "    f = open(fnm, 'r')\n",
    "    scans = json.load(f)\n",
    "    f.close()\n",
    "    return scans"
   ]
  },
  {
   "cell_type": "markdown",
   "source": [
    "## A rather static recording\n",
    "Note that each object in the JSON file is a list of LaserScan objects.\n",
    "\n"
   ],
   "metadata": {
    "collapsed": false
   }
  },
  {
   "cell_type": "code",
   "execution_count": 83,
   "outputs": [],
   "source": [
    "scans = get_scans(fnms[0])\n"
   ],
   "metadata": {
    "collapsed": false,
    "pycharm": {
     "name": "#%%\n"
    }
   }
  },
  {
   "cell_type": "markdown",
   "source": [
    "## Check attributes in single scan\n",
    "\n"
   ],
   "metadata": {
    "collapsed": false
   }
  },
  {
   "cell_type": "code",
   "execution_count": 97,
   "outputs": [
    {
     "name": "stderr",
     "output_type": "stream",
     "text": [
      "ic| n_beams: 963\n",
      "ic| intens[:10]: array([ 827., 1088., 1402., 1540., 1679., 1681., 1724., 1749., 1825.,\n",
      "                        1863.])\n",
      "    ranges[:10]: array([1.71099997, 1.75100005, 1.778     , 1.78499997, 1.79700005,\n",
      "                        1.81500006, 1.824     , 1.829     , 1.83200002, 1.83200002])\n"
     ]
    },
    {
     "name": "stdout",
     "output_type": "stream",
     "text": [
      "header.seq           134710\n",
      "header.stamp         {'secs': 1633995068, 'nsecs': 214782575}\n",
      "header.frame_id      base_range_sensor_link\n",
      "angle_min            -2.0987584590911865\n",
      "angle_max            2.0987584590911865\n",
      "angle_increment      0.004363323096185923\n",
      "time_increment       1.736111516947858e-05\n",
      "scan_time            0.02500000037252903\n",
      "range_min            0.019999999552965164\n",
      "ranges               [1.7109999656677246, 1.7510000467300415, 1.777999997138977, 1.784999966621399, 1.7970000505447388, 1.815000057220459, 1.8240000009536743, 1.8289999961853027, 1.8320000171661377, 1.8320000171661377]\n",
      "intensities          [827.0, 1088.0, 1402.0, 1540.0, 1679.0, 1681.0, 1724.0, 1749.0, 1825.0, 1863.0]\n"
     ]
    },
    {
     "data": {
      "text/plain": "(array([ 827., 1088., 1402., 1540., 1679., 1681., 1724., 1749., 1825.,\n        1863.]),\n array([1.71099997, 1.75100005, 1.778     , 1.78499997, 1.79700005,\n        1.81500006, 1.824     , 1.829     , 1.83200002, 1.83200002]))"
     },
     "execution_count": 97,
     "metadata": {},
     "output_type": "execute_result"
    }
   ],
   "source": [
    "s = scans[0]\n",
    "\n",
    "def pp(scan, n=10, w=2):\n",
    "    ks, vs = [], []\n",
    "    for k, v in scan.items():\n",
    "        if type(v) is dict:\n",
    "            for k_, v_ in v.items():\n",
    "                ks.append(f'{k}.{k_}')\n",
    "                vs.append(v_)\n",
    "        else:\n",
    "            ks.append(k)\n",
    "            vs.append(v[:n] if isinstance(v, Iterable) else v)\n",
    "\n",
    "    for k, v in zip(ks, vs):\n",
    "        print(f'{k: <20} {v}')\n",
    "\n",
    "pp(s)\n",
    "\n",
    "n_beams = ((s['angle_max'] - s['angle_min']) / s['angle_increment']) + 1\n",
    "assert isclose(n_beams, int(n_beams), abs_tol=1e-4)\n",
    "n_beams = int(n_beams)\n",
    "ic(n_beams)\n",
    "\n",
    "intens = np.array(s['intensities'])\n",
    "ranges = np.array(s['ranges'])\n",
    "assert n_beams == intens.size and n_beams == ranges.size\n",
    "\n",
    "ic(intens[:10], ranges[:10])"
   ],
   "metadata": {
    "collapsed": false,
    "pycharm": {
     "name": "#%%\n"
    }
   }
  },
  {
   "cell_type": "markdown",
   "source": [
    "## Across consecutive scans\n",
    "\n"
   ],
   "metadata": {
    "collapsed": false
   }
  },
  {
   "cell_type": "code",
   "execution_count": 85,
   "outputs": [
    {
     "name": "stderr",
     "output_type": "stream",
     "text": [
      "ic| len(scans): 106\n",
      "ic| frame_ids: array(['base_range_sensor_link', 'base_range_sensor_link',\n",
      "                      'base_range_sensor_link', 'base_range_sensor_link',\n",
      "                      'base_range_sensor_link', 'base_range_sensor_link',\n",
      "                      'base_range_sensor_link', 'base_range_sensor_link',\n",
      "                      'base_range_sensor_link', 'base_range_sensor_link',\n",
      "                      'base_range_sensor_link', 'base_range_sensor_link',\n",
      "                      'base_range_sensor_link', 'base_range_sensor_link',\n",
      "                      'base_range_sensor_link', 'base_range_sensor_link',\n",
      "                      'base_range_sensor_link', 'base_range_sensor_link',\n",
      "                      'base_range_sensor_link', 'base_range_sensor_link',\n",
      "                      'base_range_sensor_link', 'base_range_sensor_link',\n",
      "                      'base_range_sensor_link', 'base_range_sensor_link',\n",
      "                      'base_range_sensor_link', 'base_range_sensor_link',\n",
      "                      'base_range_sensor_link', 'base_range_sensor_link',\n",
      "                      'base_range_sensor_link', 'base_range_sensor_link',\n",
      "                      'base_range_sensor_link', 'base_range_sensor_link',\n",
      "                      'base_range_sensor_link', 'base_range_sensor_link',\n",
      "                      'base_range_sensor_link', 'base_range_sensor_link',\n",
      "                      'base_range_sensor_link', 'base_range_sensor_link',\n",
      "                      'base_range_sensor_link', 'base_range_sensor_link',\n",
      "                      'base_range_sensor_link', 'base_range_sensor_link',\n",
      "                      'base_range_sensor_link', 'base_range_sensor_link',\n",
      "                      'base_range_sensor_link', 'base_range_sensor_link',\n",
      "                      'base_range_sensor_link', 'base_range_sensor_link',\n",
      "                      'base_range_sensor_link', 'base_range_sensor_link',\n",
      "                      'base_range_sensor_link', 'base_range_sensor_link',\n",
      "                      'base_range_sensor_link', 'base_range_sensor_link',\n",
      "                      'base_range_sensor_link', 'base_range_sensor_link',\n",
      "                      'base_range_sensor_link', 'base_range_sensor_link',\n",
      "                      'base_range_sensor_link', 'base_range_sensor_link',\n",
      "                      'base_range_sensor_link', 'base_range_sensor_link',\n",
      "                      'base_range_sensor_link', 'base_range_sensor_link',\n",
      "                      'base_range_sensor_link', 'base_range_sensor_link',\n",
      "                      'base_range_sensor_link', 'base_range_sensor_link',\n",
      "                      'base_range_sensor_link', 'base_range_sensor_link',\n",
      "                      'base_range_sensor_link', 'base_range_sensor_link',\n",
      "                      'base_range_sensor_link', 'base_range_sensor_link',\n",
      "                      'base_range_sensor_link', 'base_range_sensor_link',\n",
      "                      'base_range_sensor_link', 'base_range_sensor_link',\n",
      "                      'base_range_sensor_link', 'base_range_sensor_link',\n",
      "                      'base_range_sensor_link', 'base_range_sensor_link',\n",
      "                      'base_range_sensor_link', 'base_range_sensor_link',\n",
      "                      'base_range_sensor_link', 'base_range_sensor_link',\n",
      "                      'base_range_sensor_link', 'base_range_sensor_link',\n",
      "                      'base_range_sensor_link', 'base_range_sensor_link',\n",
      "                      'base_range_sensor_link', 'base_range_sensor_link',\n",
      "                      'base_range_sensor_link', 'base_range_sensor_link',\n",
      "                      'base_range_sensor_link', 'base_range_sensor_link',\n",
      "                      'base_range_sensor_link', 'base_range_sensor_link',\n",
      "                      'base_range_sensor_link', 'base_range_sensor_link',\n",
      "                      'base_range_sensor_link', 'base_range_sensor_link',\n",
      "                      'base_range_sensor_link', 'base_range_sensor_link',\n",
      "                      'base_range_sensor_link', 'base_range_sensor_link'], dtype='<U22')\n",
      "    seqs: array([134710, 134711, 134712, 134713, 134714, 134715, 134716, 134717,\n",
      "                 134718, 134719, 134720, 134721, 134722, 134723, 134724, 134725,\n",
      "                 134726, 134727, 134728, 134729, 134730, 134731, 134732, 134733,\n",
      "                 134734, 134735, 134736, 134737, 134738, 134739, 134740, 134741,\n",
      "                 134742, 134743, 134744, 134745, 134746, 134747, 134748, 134749,\n",
      "                 134750, 134751, 134752, 134753, 134754, 134755, 134756, 134757,\n",
      "                 134758, 134759, 134760, 134761, 134762, 134763, 134764, 134765,\n",
      "                 134766, 134767, 134768, 134769, 134770, 134771, 134772, 134773,\n",
      "                 134774, 134775, 134776, 134777, 134778, 134779, 134780, 134781,\n",
      "                 134782, 134783, 134784, 134785, 134786, 134787, 134788, 134789,\n",
      "                 134790, 134791, 134792, 134793, 134794, 134795, 134796, 134797,\n",
      "                 134798, 134799, 134800, 134801, 134802, 134803, 134804, 134805,\n",
      "                 134806, 134807, 134808, 134809, 134810, 134811, 134812, 134813,\n",
      "                 134814, 134815])\n",
      "    secs: array([1633995068, 1633995068, 1633995068, 1633995068, 1633995068,\n",
      "                 1633995068, 1633995068, 1633995068, 1633995068, 1633995068,\n",
      "                 1633995068, 1633995068, 1633995068, 1633995068, 1633995068,\n",
      "                 1633995068, 1633995068, 1633995068, 1633995068, 1633995068,\n",
      "                 1633995068, 1633995068, 1633995068, 1633995068, 1633995068,\n",
      "                 1633995068, 1633995068, 1633995068, 1633995068, 1633995068,\n",
      "                 1633995068, 1633995068, 1633995069, 1633995069, 1633995069,\n",
      "                 1633995069, 1633995069, 1633995069, 1633995069, 1633995069,\n",
      "                 1633995069, 1633995069, 1633995069, 1633995069, 1633995069,\n",
      "                 1633995069, 1633995069, 1633995069, 1633995069, 1633995069,\n",
      "                 1633995069, 1633995069, 1633995069, 1633995069, 1633995069,\n",
      "                 1633995069, 1633995069, 1633995069, 1633995069, 1633995069,\n",
      "                 1633995069, 1633995069, 1633995069, 1633995069, 1633995069,\n",
      "                 1633995069, 1633995069, 1633995069, 1633995069, 1633995069,\n",
      "                 1633995069, 1633995069, 1633995070, 1633995070, 1633995070,\n",
      "                 1633995070, 1633995070, 1633995070, 1633995070, 1633995070,\n",
      "                 1633995070, 1633995070, 1633995070, 1633995070, 1633995070,\n",
      "                 1633995070, 1633995070, 1633995070, 1633995070, 1633995070,\n",
      "                 1633995070, 1633995070, 1633995070, 1633995070, 1633995070,\n",
      "                 1633995070, 1633995070, 1633995070, 1633995070, 1633995070,\n",
      "                 1633995070, 1633995070, 1633995070, 1633995070, 1633995070,\n",
      "                 1633995070])\n",
      "    nsecs: array([214782575, 240466341, 265060864, 290535087, 315279059, 340430772,\n",
      "                  365026006, 390576450, 415312826, 440444483, 465630486, 490341154,\n",
      "                  515542230, 540683538, 565448972, 590554330, 615853003, 640274623,\n",
      "                  665290297, 690854073, 715593220, 740714856, 765895621, 790611815,\n",
      "                  815881841, 840943437, 865899010, 890826458, 916093654, 940568555,\n",
      "                  965593183, 991179864,  15920869,  41058617,  65876949,  91237214,\n",
      "                  115941281, 141077796, 166255865, 190968872, 216041606, 241163030,\n",
      "                  266348486, 291056653, 316259201, 341392082, 366131529, 391281385,\n",
      "                  416466182, 441171809, 466380788, 491529172, 516239492, 541396178,\n",
      "                  567150543, 591117133, 616353876, 641418073, 666621455, 691169404,\n",
      "                  716184704, 741763057, 766497373, 791661880, 816209894, 841822955,\n",
      "                  866541179, 891705977, 916299283, 941858632, 966592103, 991701923,\n",
      "                   16889546,  41457488,  66635317,  91774162, 116949549, 141972035,\n",
      "                  166707544, 191863053, 217040111, 241608215, 266781985, 291919539,\n",
      "                  317090844, 341650219, 366675370, 392260483, 416982953, 442117416,\n",
      "                  467308830, 492005525, 517181974, 542338855, 567070801, 592218781,\n",
      "                  617382821, 642092834, 667268479, 692431039, 717154785, 742323199,\n",
      "                  767490448, 792204865, 817417116, 842561265])\n",
      "    range_mins: array([0.02, 0.02, 0.02, 0.02, 0.02, 0.02, 0.02, 0.02, 0.02, 0.02, 0.02,\n",
      "                       0.02, 0.02, 0.02, 0.02, 0.02, 0.02, 0.02, 0.02, 0.02, 0.02, 0.02,\n",
      "                       0.02, 0.02, 0.02, 0.02, 0.02, 0.02, 0.02, 0.02, 0.02, 0.02, 0.02,\n",
      "                       0.02, 0.02, 0.02, 0.02, 0.02, 0.02, 0.02, 0.02, 0.02, 0.02, 0.02,\n",
      "                       0.02, 0.02, 0.02, 0.02, 0.02, 0.02, 0.02, 0.02, 0.02, 0.02, 0.02,\n",
      "                       0.02, 0.02, 0.02, 0.02, 0.02, 0.02, 0.02, 0.02, 0.02, 0.02, 0.02,\n",
      "                       0.02, 0.02, 0.02, 0.02, 0.02, 0.02, 0.02, 0.02, 0.02, 0.02, 0.02,\n",
      "                       0.02, 0.02, 0.02, 0.02, 0.02, 0.02, 0.02, 0.02, 0.02, 0.02, 0.02,\n",
      "                       0.02, 0.02, 0.02, 0.02, 0.02, 0.02, 0.02, 0.02, 0.02, 0.02, 0.02,\n",
      "                       0.02, 0.02, 0.02, 0.02, 0.02, 0.02, 0.02])\n",
      "    scan_times: array([0.025, 0.025, 0.025, 0.025, 0.025, 0.025, 0.025, 0.025, 0.025,\n",
      "                       0.025, 0.025, 0.025, 0.025, 0.025, 0.025, 0.025, 0.025, 0.025,\n",
      "                       0.025, 0.025, 0.025, 0.025, 0.025, 0.025, 0.025, 0.025, 0.025,\n",
      "                       0.025, 0.025, 0.025, 0.025, 0.025, 0.025, 0.025, 0.025, 0.025,\n",
      "                       0.025, 0.025, 0.025, 0.025, 0.025, 0.025, 0.025, 0.025, 0.025,\n",
      "                       0.025, 0.025, 0.025, 0.025, 0.025, 0.025, 0.025, 0.025, 0.025,\n",
      "                       0.025, 0.025, 0.025, 0.025, 0.025, 0.025, 0.025, 0.025, 0.025,\n",
      "                       0.025, 0.025, 0.025, 0.025, 0.025, 0.025, 0.025, 0.025, 0.025,\n",
      "                       0.025, 0.025, 0.025, 0.025, 0.025, 0.025, 0.025, 0.025, 0.025,\n",
      "                       0.025, 0.025, 0.025, 0.025, 0.025, 0.025, 0.025, 0.025, 0.025,\n",
      "                       0.025, 0.025, 0.025, 0.025, 0.025, 0.025, 0.025, 0.025, 0.025,\n",
      "                       0.025, 0.025, 0.025, 0.025, 0.025, 0.025, 0.025])\n",
      "    time_increments: array([1.73611152e-05, 1.73611152e-05, 1.73611152e-05, 1.73611152e-05,\n",
      "                            1.73611152e-05, 1.73611152e-05, 1.73611152e-05, 1.73611152e-05,\n",
      "                            1.73611152e-05, 1.73611152e-05, 1.73611152e-05, 1.73611152e-05,\n",
      "                            1.73611152e-05, 1.73611152e-05, 1.73611152e-05, 1.73611152e-05,\n",
      "                            1.73611152e-05, 1.73611152e-05, 1.73611152e-05, 1.73611152e-05,\n",
      "                            1.73611152e-05, 1.73611152e-05, 1.73611152e-05, 1.73611152e-05,\n",
      "                            1.73611152e-05, 1.73611152e-05, 1.73611152e-05, 1.73611152e-05,\n",
      "                            1.73611152e-05, 1.73611152e-05, 1.73611152e-05, 1.73611152e-05,\n",
      "                            1.73611152e-05, 1.73611152e-05, 1.73611152e-05, 1.73611152e-05,\n",
      "                            1.73611152e-05, 1.73611152e-05, 1.73611152e-05, 1.73611152e-05,\n",
      "                            1.73611152e-05, 1.73611152e-05, 1.73611152e-05, 1.73611152e-05,\n",
      "                            1.73611152e-05, 1.73611152e-05, 1.73611152e-05, 1.73611152e-05,\n",
      "                            1.73611152e-05, 1.73611152e-05, 1.73611152e-05, 1.73611152e-05,\n",
      "                            1.73611152e-05, 1.73611152e-05, 1.73611152e-05, 1.73611152e-05,\n",
      "                            1.73611152e-05, 1.73611152e-05, 1.73611152e-05, 1.73611152e-05,\n",
      "                            1.73611152e-05, 1.73611152e-05, 1.73611152e-05, 1.73611152e-05,\n",
      "                            1.73611152e-05, 1.73611152e-05, 1.73611152e-05, 1.73611152e-05,\n",
      "                            1.73611152e-05, 1.73611152e-05, 1.73611152e-05, 1.73611152e-05,\n",
      "                            1.73611152e-05, 1.73611152e-05, 1.73611152e-05, 1.73611152e-05,\n",
      "                            1.73611152e-05, 1.73611152e-05, 1.73611152e-05, 1.73611152e-05,\n",
      "                            1.73611152e-05, 1.73611152e-05, 1.73611152e-05, 1.73611152e-05,\n",
      "                            1.73611152e-05, 1.73611152e-05, 1.73611152e-05, 1.73611152e-05,\n",
      "                            1.73611152e-05, 1.73611152e-05, 1.73611152e-05, 1.73611152e-05,\n",
      "                            1.73611152e-05, 1.73611152e-05, 1.73611152e-05, 1.73611152e-05,\n",
      "                            1.73611152e-05, 1.73611152e-05, 1.73611152e-05, 1.73611152e-05,\n",
      "                            1.73611152e-05, 1.73611152e-05, 1.73611152e-05, 1.73611152e-05,\n",
      "                            1.73611152e-05, 1.73611152e-05])\n"
     ]
    },
    {
     "data": {
      "text/plain": "(array(['base_range_sensor_link', 'base_range_sensor_link',\n        'base_range_sensor_link', 'base_range_sensor_link',\n        'base_range_sensor_link', 'base_range_sensor_link',\n        'base_range_sensor_link', 'base_range_sensor_link',\n        'base_range_sensor_link', 'base_range_sensor_link',\n        'base_range_sensor_link', 'base_range_sensor_link',\n        'base_range_sensor_link', 'base_range_sensor_link',\n        'base_range_sensor_link', 'base_range_sensor_link',\n        'base_range_sensor_link', 'base_range_sensor_link',\n        'base_range_sensor_link', 'base_range_sensor_link',\n        'base_range_sensor_link', 'base_range_sensor_link',\n        'base_range_sensor_link', 'base_range_sensor_link',\n        'base_range_sensor_link', 'base_range_sensor_link',\n        'base_range_sensor_link', 'base_range_sensor_link',\n        'base_range_sensor_link', 'base_range_sensor_link',\n        'base_range_sensor_link', 'base_range_sensor_link',\n        'base_range_sensor_link', 'base_range_sensor_link',\n        'base_range_sensor_link', 'base_range_sensor_link',\n        'base_range_sensor_link', 'base_range_sensor_link',\n        'base_range_sensor_link', 'base_range_sensor_link',\n        'base_range_sensor_link', 'base_range_sensor_link',\n        'base_range_sensor_link', 'base_range_sensor_link',\n        'base_range_sensor_link', 'base_range_sensor_link',\n        'base_range_sensor_link', 'base_range_sensor_link',\n        'base_range_sensor_link', 'base_range_sensor_link',\n        'base_range_sensor_link', 'base_range_sensor_link',\n        'base_range_sensor_link', 'base_range_sensor_link',\n        'base_range_sensor_link', 'base_range_sensor_link',\n        'base_range_sensor_link', 'base_range_sensor_link',\n        'base_range_sensor_link', 'base_range_sensor_link',\n        'base_range_sensor_link', 'base_range_sensor_link',\n        'base_range_sensor_link', 'base_range_sensor_link',\n        'base_range_sensor_link', 'base_range_sensor_link',\n        'base_range_sensor_link', 'base_range_sensor_link',\n        'base_range_sensor_link', 'base_range_sensor_link',\n        'base_range_sensor_link', 'base_range_sensor_link',\n        'base_range_sensor_link', 'base_range_sensor_link',\n        'base_range_sensor_link', 'base_range_sensor_link',\n        'base_range_sensor_link', 'base_range_sensor_link',\n        'base_range_sensor_link', 'base_range_sensor_link',\n        'base_range_sensor_link', 'base_range_sensor_link',\n        'base_range_sensor_link', 'base_range_sensor_link',\n        'base_range_sensor_link', 'base_range_sensor_link',\n        'base_range_sensor_link', 'base_range_sensor_link',\n        'base_range_sensor_link', 'base_range_sensor_link',\n        'base_range_sensor_link', 'base_range_sensor_link',\n        'base_range_sensor_link', 'base_range_sensor_link',\n        'base_range_sensor_link', 'base_range_sensor_link',\n        'base_range_sensor_link', 'base_range_sensor_link',\n        'base_range_sensor_link', 'base_range_sensor_link',\n        'base_range_sensor_link', 'base_range_sensor_link',\n        'base_range_sensor_link', 'base_range_sensor_link',\n        'base_range_sensor_link', 'base_range_sensor_link'], dtype='<U22'),\n array([134710, 134711, 134712, 134713, 134714, 134715, 134716, 134717,\n        134718, 134719, 134720, 134721, 134722, 134723, 134724, 134725,\n        134726, 134727, 134728, 134729, 134730, 134731, 134732, 134733,\n        134734, 134735, 134736, 134737, 134738, 134739, 134740, 134741,\n        134742, 134743, 134744, 134745, 134746, 134747, 134748, 134749,\n        134750, 134751, 134752, 134753, 134754, 134755, 134756, 134757,\n        134758, 134759, 134760, 134761, 134762, 134763, 134764, 134765,\n        134766, 134767, 134768, 134769, 134770, 134771, 134772, 134773,\n        134774, 134775, 134776, 134777, 134778, 134779, 134780, 134781,\n        134782, 134783, 134784, 134785, 134786, 134787, 134788, 134789,\n        134790, 134791, 134792, 134793, 134794, 134795, 134796, 134797,\n        134798, 134799, 134800, 134801, 134802, 134803, 134804, 134805,\n        134806, 134807, 134808, 134809, 134810, 134811, 134812, 134813,\n        134814, 134815]),\n array([1633995068, 1633995068, 1633995068, 1633995068, 1633995068,\n        1633995068, 1633995068, 1633995068, 1633995068, 1633995068,\n        1633995068, 1633995068, 1633995068, 1633995068, 1633995068,\n        1633995068, 1633995068, 1633995068, 1633995068, 1633995068,\n        1633995068, 1633995068, 1633995068, 1633995068, 1633995068,\n        1633995068, 1633995068, 1633995068, 1633995068, 1633995068,\n        1633995068, 1633995068, 1633995069, 1633995069, 1633995069,\n        1633995069, 1633995069, 1633995069, 1633995069, 1633995069,\n        1633995069, 1633995069, 1633995069, 1633995069, 1633995069,\n        1633995069, 1633995069, 1633995069, 1633995069, 1633995069,\n        1633995069, 1633995069, 1633995069, 1633995069, 1633995069,\n        1633995069, 1633995069, 1633995069, 1633995069, 1633995069,\n        1633995069, 1633995069, 1633995069, 1633995069, 1633995069,\n        1633995069, 1633995069, 1633995069, 1633995069, 1633995069,\n        1633995069, 1633995069, 1633995070, 1633995070, 1633995070,\n        1633995070, 1633995070, 1633995070, 1633995070, 1633995070,\n        1633995070, 1633995070, 1633995070, 1633995070, 1633995070,\n        1633995070, 1633995070, 1633995070, 1633995070, 1633995070,\n        1633995070, 1633995070, 1633995070, 1633995070, 1633995070,\n        1633995070, 1633995070, 1633995070, 1633995070, 1633995070,\n        1633995070, 1633995070, 1633995070, 1633995070, 1633995070,\n        1633995070]),\n array([214782575, 240466341, 265060864, 290535087, 315279059, 340430772,\n        365026006, 390576450, 415312826, 440444483, 465630486, 490341154,\n        515542230, 540683538, 565448972, 590554330, 615853003, 640274623,\n        665290297, 690854073, 715593220, 740714856, 765895621, 790611815,\n        815881841, 840943437, 865899010, 890826458, 916093654, 940568555,\n        965593183, 991179864,  15920869,  41058617,  65876949,  91237214,\n        115941281, 141077796, 166255865, 190968872, 216041606, 241163030,\n        266348486, 291056653, 316259201, 341392082, 366131529, 391281385,\n        416466182, 441171809, 466380788, 491529172, 516239492, 541396178,\n        567150543, 591117133, 616353876, 641418073, 666621455, 691169404,\n        716184704, 741763057, 766497373, 791661880, 816209894, 841822955,\n        866541179, 891705977, 916299283, 941858632, 966592103, 991701923,\n         16889546,  41457488,  66635317,  91774162, 116949549, 141972035,\n        166707544, 191863053, 217040111, 241608215, 266781985, 291919539,\n        317090844, 341650219, 366675370, 392260483, 416982953, 442117416,\n        467308830, 492005525, 517181974, 542338855, 567070801, 592218781,\n        617382821, 642092834, 667268479, 692431039, 717154785, 742323199,\n        767490448, 792204865, 817417116, 842561265]),\n array([0.02, 0.02, 0.02, 0.02, 0.02, 0.02, 0.02, 0.02, 0.02, 0.02, 0.02,\n        0.02, 0.02, 0.02, 0.02, 0.02, 0.02, 0.02, 0.02, 0.02, 0.02, 0.02,\n        0.02, 0.02, 0.02, 0.02, 0.02, 0.02, 0.02, 0.02, 0.02, 0.02, 0.02,\n        0.02, 0.02, 0.02, 0.02, 0.02, 0.02, 0.02, 0.02, 0.02, 0.02, 0.02,\n        0.02, 0.02, 0.02, 0.02, 0.02, 0.02, 0.02, 0.02, 0.02, 0.02, 0.02,\n        0.02, 0.02, 0.02, 0.02, 0.02, 0.02, 0.02, 0.02, 0.02, 0.02, 0.02,\n        0.02, 0.02, 0.02, 0.02, 0.02, 0.02, 0.02, 0.02, 0.02, 0.02, 0.02,\n        0.02, 0.02, 0.02, 0.02, 0.02, 0.02, 0.02, 0.02, 0.02, 0.02, 0.02,\n        0.02, 0.02, 0.02, 0.02, 0.02, 0.02, 0.02, 0.02, 0.02, 0.02, 0.02,\n        0.02, 0.02, 0.02, 0.02, 0.02, 0.02, 0.02]),\n array([0.025, 0.025, 0.025, 0.025, 0.025, 0.025, 0.025, 0.025, 0.025,\n        0.025, 0.025, 0.025, 0.025, 0.025, 0.025, 0.025, 0.025, 0.025,\n        0.025, 0.025, 0.025, 0.025, 0.025, 0.025, 0.025, 0.025, 0.025,\n        0.025, 0.025, 0.025, 0.025, 0.025, 0.025, 0.025, 0.025, 0.025,\n        0.025, 0.025, 0.025, 0.025, 0.025, 0.025, 0.025, 0.025, 0.025,\n        0.025, 0.025, 0.025, 0.025, 0.025, 0.025, 0.025, 0.025, 0.025,\n        0.025, 0.025, 0.025, 0.025, 0.025, 0.025, 0.025, 0.025, 0.025,\n        0.025, 0.025, 0.025, 0.025, 0.025, 0.025, 0.025, 0.025, 0.025,\n        0.025, 0.025, 0.025, 0.025, 0.025, 0.025, 0.025, 0.025, 0.025,\n        0.025, 0.025, 0.025, 0.025, 0.025, 0.025, 0.025, 0.025, 0.025,\n        0.025, 0.025, 0.025, 0.025, 0.025, 0.025, 0.025, 0.025, 0.025,\n        0.025, 0.025, 0.025, 0.025, 0.025, 0.025, 0.025]),\n array([1.73611152e-05, 1.73611152e-05, 1.73611152e-05, 1.73611152e-05,\n        1.73611152e-05, 1.73611152e-05, 1.73611152e-05, 1.73611152e-05,\n        1.73611152e-05, 1.73611152e-05, 1.73611152e-05, 1.73611152e-05,\n        1.73611152e-05, 1.73611152e-05, 1.73611152e-05, 1.73611152e-05,\n        1.73611152e-05, 1.73611152e-05, 1.73611152e-05, 1.73611152e-05,\n        1.73611152e-05, 1.73611152e-05, 1.73611152e-05, 1.73611152e-05,\n        1.73611152e-05, 1.73611152e-05, 1.73611152e-05, 1.73611152e-05,\n        1.73611152e-05, 1.73611152e-05, 1.73611152e-05, 1.73611152e-05,\n        1.73611152e-05, 1.73611152e-05, 1.73611152e-05, 1.73611152e-05,\n        1.73611152e-05, 1.73611152e-05, 1.73611152e-05, 1.73611152e-05,\n        1.73611152e-05, 1.73611152e-05, 1.73611152e-05, 1.73611152e-05,\n        1.73611152e-05, 1.73611152e-05, 1.73611152e-05, 1.73611152e-05,\n        1.73611152e-05, 1.73611152e-05, 1.73611152e-05, 1.73611152e-05,\n        1.73611152e-05, 1.73611152e-05, 1.73611152e-05, 1.73611152e-05,\n        1.73611152e-05, 1.73611152e-05, 1.73611152e-05, 1.73611152e-05,\n        1.73611152e-05, 1.73611152e-05, 1.73611152e-05, 1.73611152e-05,\n        1.73611152e-05, 1.73611152e-05, 1.73611152e-05, 1.73611152e-05,\n        1.73611152e-05, 1.73611152e-05, 1.73611152e-05, 1.73611152e-05,\n        1.73611152e-05, 1.73611152e-05, 1.73611152e-05, 1.73611152e-05,\n        1.73611152e-05, 1.73611152e-05, 1.73611152e-05, 1.73611152e-05,\n        1.73611152e-05, 1.73611152e-05, 1.73611152e-05, 1.73611152e-05,\n        1.73611152e-05, 1.73611152e-05, 1.73611152e-05, 1.73611152e-05,\n        1.73611152e-05, 1.73611152e-05, 1.73611152e-05, 1.73611152e-05,\n        1.73611152e-05, 1.73611152e-05, 1.73611152e-05, 1.73611152e-05,\n        1.73611152e-05, 1.73611152e-05, 1.73611152e-05, 1.73611152e-05,\n        1.73611152e-05, 1.73611152e-05, 1.73611152e-05, 1.73611152e-05,\n        1.73611152e-05, 1.73611152e-05]))"
     },
     "execution_count": 85,
     "metadata": {},
     "output_type": "execute_result"
    }
   ],
   "source": [
    "ic(len(scans))\n",
    "\n",
    "def map_scans(key):\n",
    "    key = key.split('.')\n",
    "    return np.vectorize(lambda x: get(x, key))(scans)\n",
    "\n",
    "\n",
    "frame_ids = map_scans('header.frame_id')\n",
    "seqs = map_scans('header.seq')\n",
    "secs = map_scans('header.stamp.secs')\n",
    "nsecs = map_scans('header.stamp.nsecs')\n",
    "range_mins = map_scans('range_min')\n",
    "scan_times = map_scans('scan_time')\n",
    "time_increments = map_scans('time_increment')\n",
    "ic(frame_ids, seqs, secs, nsecs, range_mins, scan_times, time_increments)\n"
   ],
   "metadata": {
    "collapsed": false,
    "pycharm": {
     "name": "#%%\n"
    }
   }
  }
 ],
 "metadata": {
  "kernelspec": {
   "display_name": "Python 3",
   "language": "python",
   "name": "python3"
  },
  "language_info": {
   "codemirror_mode": {
    "name": "ipython",
    "version": 2
   },
   "file_extension": ".py",
   "mimetype": "text/x-python",
   "name": "python",
   "nbconvert_exporter": "python",
   "pygments_lexer": "ipython2",
   "version": "2.7.6"
  }
 },
 "nbformat": 4,
 "nbformat_minor": 0
}