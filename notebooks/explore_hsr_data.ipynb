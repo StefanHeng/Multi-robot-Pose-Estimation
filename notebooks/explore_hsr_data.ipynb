{
 "cells": [
  {
   "cell_type": "markdown",
   "source": [
    "# Explore HSR data\n",
    "Stefan/Yuzhao Heng\n",
    "Since Tues. Oct. 12th, 2021\n",
    "\n",
    "Check the types, format and content for HSR robot's laser scan output, see `scripts/util` for the type.\n",
    "\n",
    "\n",
    "## Setup"
   ],
   "metadata": {
    "collapsed": false
   }
  },
  {
   "cell_type": "code",
   "execution_count": 17,
   "metadata": {
    "collapsed": true
   },
   "outputs": [],
   "source": [
    "import os\n",
    "import json\n",
    "import numpy as np\n",
    "from math import isclose\n",
    "from collections.abc import Iterable\n",
    "from icecream import ic\n",
    "\n",
    "from util import *\n",
    "\n",
    "os.chdir('../data')\n",
    "\n",
    "fnms = !ls\n",
    "\n",
    "def get_scans(fnm):\n",
    "    f = open(fnm, 'r')\n",
    "    scans = json.load(f)\n",
    "    f.close()\n",
    "    return scans"
   ]
  },
  {
   "cell_type": "markdown",
   "source": [
    "## A rather static recording\n",
    "Note that each object in the JSON file is a list of LaserScan objects.\n",
    "\n"
   ],
   "metadata": {
    "collapsed": false
   }
  },
  {
   "cell_type": "code",
   "execution_count": 18,
   "outputs": [],
   "source": [
    "scans = get_scans(fnms[0])\n"
   ],
   "metadata": {
    "collapsed": false,
    "pycharm": {
     "name": "#%%\n"
    }
   }
  },
  {
   "cell_type": "markdown",
   "source": [
    "## Check attributes in single scan\n",
    "\n"
   ],
   "metadata": {
    "collapsed": false
   }
  },
  {
   "cell_type": "code",
   "execution_count": 19,
   "outputs": [
    {
     "name": "stderr",
     "output_type": "stream",
     "text": [
      "ic| list(keys(s)): ['header.seq',\n",
      "                    'header.stamp.secs',\n",
      "                    'header.stamp.nsecs',\n",
      "                    'header.frame_id',\n",
      "                    'angle_min',\n",
      "                    'angle_max',\n",
      "                    'angle_increment',\n",
      "                    'time_increment',\n",
      "                    'scan_time',\n",
      "                    'range_min',\n",
      "                    'ranges',\n",
      "                    'intensities']\n",
      "ic| n_beams: 963\n",
      "ic| intens[:10]: array([ 827., 1088., 1402., 1540., 1679., 1681., 1724., 1749., 1825.,\n",
      "                        1863.])\n",
      "    ranges[:10]: array([1.71099997, 1.75100005, 1.778     , 1.78499997, 1.79700005,\n",
      "                        1.81500006, 1.824     , 1.829     , 1.83200002, 1.83200002])\n"
     ]
    },
    {
     "name": "stdout",
     "output_type": "stream",
     "text": [
      "header.seq           134710\n",
      "header.stamp.secs    1633995068\n",
      "header.stamp.nsecs   214782575\n",
      "header.frame_id      base_\n",
      "angle_min            -2.0987584590911865\n",
      "angle_max            2.0987584590911865\n",
      "angle_increment      0.004363323096185923\n",
      "time_increment       1.736111516947858e-05\n",
      "scan_time            0.02500000037252903\n",
      "range_min            0.019999999552965164\n",
      "ranges               [1.7109999656677246, 1.7510000467300415, 1.777999997138977, 1.784999966621399, 1.7970000505447388]\n",
      "intensities          [827.0, 1088.0, 1402.0, 1540.0, 1679.0]\n"
     ]
    },
    {
     "data": {
      "text/plain": "(array([ 827., 1088., 1402., 1540., 1679., 1681., 1724., 1749., 1825.,\n        1863.]),\n array([1.71099997, 1.75100005, 1.778     , 1.78499997, 1.79700005,\n        1.81500006, 1.824     , 1.829     , 1.83200002, 1.83200002]))"
     },
     "execution_count": 19,
     "metadata": {},
     "output_type": "execute_result"
    }
   ],
   "source": [
    "s = scans[0]\n",
    "\n",
    "ic(list(keys(s)))\n",
    "pp(s)\n",
    "\n",
    "n_beams = ((s['angle_max'] - s['angle_min']) / s['angle_increment']) + 1\n",
    "assert isclose(n_beams, int(n_beams), abs_tol=1e-4)\n",
    "n_beams = int(n_beams)\n",
    "ic(n_beams)\n",
    "\n",
    "intens = np.array(s['intensities'])\n",
    "ranges = np.array(s['ranges'])\n",
    "assert n_beams == intens.size and n_beams == ranges.size\n",
    "\n",
    "ic(intens[:10], ranges[:10])"
   ],
   "metadata": {
    "collapsed": false,
    "pycharm": {
     "name": "#%%\n"
    }
   }
  },
  {
   "cell_type": "markdown",
   "source": [
    "## Across consecutive scans\n",
    "\n"
   ],
   "metadata": {
    "collapsed": false
   }
  },
  {
   "cell_type": "code",
   "execution_count": 34,
   "outputs": [
    {
     "name": "stderr",
     "output_type": "stream",
     "text": [
      "ic| len(scans): 106\n",
      "ic| k: 'header.seq'\n",
      "ic| arr[:10]: array([134710, 134711, 134712, 134713, 134714, 134715, 134716, 134717,\n",
      "                     134718, 134719])\n",
      "ic| k: 'header.stamp.secs'\n",
      "ic| arr[:10]: array([1633995068, 1633995068, 1633995068, 1633995068, 1633995068,\n",
      "                     1633995068, 1633995068, 1633995068, 1633995068, 1633995068])\n",
      "ic| k: 'header.stamp.nsecs'\n",
      "ic| arr[:10]: array([214782575, 240466341, 265060864, 290535087, 315279059, 340430772,\n",
      "                     365026006, 390576450, 415312826, 440444483])\n",
      "ic| k: 'header.frame_id'\n",
      "ic| arr[:10]: array(['base_range_sensor_link', 'base_range_sensor_link',\n",
      "                     'base_range_sensor_link', 'base_range_sensor_link',\n",
      "                     'base_range_sensor_link', 'base_range_sensor_link',\n",
      "                     'base_range_sensor_link', 'base_range_sensor_link',\n",
      "                     'base_range_sensor_link', 'base_range_sensor_link'], dtype='<U22')\n",
      "ic| k: 'angle_min'\n",
      "ic| arr[:10]: array([-2.09875846, -2.09875846, -2.09875846, -2.09875846, -2.09875846,\n",
      "                     -2.09875846, -2.09875846, -2.09875846, -2.09875846, -2.09875846])\n",
      "ic| k: 'angle_max'\n",
      "ic| arr[:10]: array([2.09875846, 2.09875846, 2.09875846, 2.09875846, 2.09875846,\n",
      "                     2.09875846, 2.09875846, 2.09875846, 2.09875846, 2.09875846])\n",
      "ic| k: 'angle_increment'\n",
      "ic| arr[:10]: array([0.00436332, 0.00436332, 0.00436332, 0.00436332, 0.00436332,\n",
      "                     0.00436332, 0.00436332, 0.00436332, 0.00436332, 0.00436332])\n",
      "ic| k: 'time_increment'\n",
      "ic| arr[:10]: array([1.73611152e-05, 1.73611152e-05, 1.73611152e-05, 1.73611152e-05,\n",
      "                     1.73611152e-05, 1.73611152e-05, 1.73611152e-05, 1.73611152e-05,\n",
      "                     1.73611152e-05, 1.73611152e-05])\n",
      "ic| k: 'scan_time'\n",
      "ic| arr[:10]: array([0.025, 0.025, 0.025, 0.025, 0.025, 0.025, 0.025, 0.025, 0.025,\n",
      "                     0.025])\n",
      "ic| k: 'range_min'\n",
      "ic| arr[:10]: array([0.02, 0.02, 0.02, 0.02, 0.02, 0.02, 0.02, 0.02, 0.02, 0.02])\n",
      "ic| k: 'ranges'\n",
      "ic| k: 'intensities'\n"
     ]
    }
   ],
   "source": [
    "ic(len(scans))\n",
    "\n",
    "def map_scans(key):\n",
    "    return np.vectorize(lambda x: get(x, key))(scans)\n",
    "\n",
    "\n",
    "# frame_ids = map_scans('header.frame_id')\n",
    "# seqs = map_scans('header.seq')\n",
    "# secs = map_scans('header.stamp.secs')\n",
    "# nsecs = map_scans('header.stamp.nsecs')\n",
    "# range_mins = map_scans('range_min')\n",
    "# scan_times = map_scans('scan_time')\n",
    "# time_increments = map_scans('time_increment')\n",
    "# ic(frame_ids, seqs, secs, nsecs, range_mins, scan_times, time_increments)\n",
    "#\n",
    "# seqs, secs, nsecs, frame_ids, angle_mins, angle_maxs, angle_increments, time_increments, scan_times, range_mins, ranges, intensities = list(map(map_scans, keys(s)))\n",
    "# ic(seqs, secs, nsecs, frame_ids, angle_mins, angle_maxs, angle_increments, time_increments, scan_times, range_mins, ranges, intensities)\n",
    "\n",
    "\n",
    "for k in keys(s):\n",
    "    ic(k)\n",
    "    if type(get(s, k)) is not list:\n",
    "        arr = map_scans(k)\n",
    "        ic(arr[:10])\n"
   ],
   "metadata": {
    "collapsed": false,
    "pycharm": {
     "name": "#%%\n"
    }
   }
  }
 ],
 "metadata": {
  "kernelspec": {
   "display_name": "Python 3",
   "language": "python",
   "name": "python3"
  },
  "language_info": {
   "codemirror_mode": {
    "name": "ipython",
    "version": 2
   },
   "file_extension": ".py",
   "mimetype": "text/x-python",
   "name": "python",
   "nbconvert_exporter": "python",
   "pygments_lexer": "ipython2",
   "version": "2.7.6"
  }
 },
 "nbformat": 4,
 "nbformat_minor": 0
}